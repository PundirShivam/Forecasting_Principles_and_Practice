{
 "cells": [
  {
   "cell_type": "markdown",
   "metadata": {},
   "source": [
    "## Chapter 4 - Judgemental Forecasts\n",
    "\n",
    "There were no exercises in chapter 4 in [Forecasting: Principles and Practice](https://otexts.com/fpp2/)."
   ]
  }
 ],
 "metadata": {
  "kernelspec": {
   "display_name": "arp-prod",
   "language": "python",
   "name": "arp-prod"
  },
  "language_info": {
   "codemirror_mode": {
    "name": "ipython",
    "version": 3
   },
   "file_extension": ".py",
   "mimetype": "text/x-python",
   "name": "python",
   "nbconvert_exporter": "python",
   "pygments_lexer": "ipython3",
   "version": "3.7.4"
  }
 },
 "nbformat": 4,
 "nbformat_minor": 2
}
