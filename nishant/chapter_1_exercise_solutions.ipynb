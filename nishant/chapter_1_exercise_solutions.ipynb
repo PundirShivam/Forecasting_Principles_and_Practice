{
 "cells": [
  {
   "cell_type": "markdown",
   "metadata": {},
   "source": [
    "## Chapter 1 - Getting Started\n",
    "\n",
    "This notebook contains solutions to the exercises in chapter 1 in [Forecasting: Principles and Practice](https://otexts.com/fpp2/)."
   ]
  },
  {
   "cell_type": "markdown",
   "metadata": {},
   "source": [
    "### Question 1 \n",
    "For cases 3 and 4 in Section 1.5, list possible predictor variables that might be useful, assuming that the relevant data are available."
   ]
  },
  {
   "cell_type": "markdown",
   "metadata": {},
   "source": [
    "Case 3\n",
    "\n",
    "A large car fleet company asked us to help them forecast vehicle re-sale values. They purchase new vehicles, lease them out for three years, and then sell them. Better forecasts of vehicle sales values would mean better control of profits; understanding what affects resale values may allow leasing and sales policies to be developed in order to maximise profits.\n",
    "\n",
    "At the time, the resale values were being forecast by a group of specialists. Unfortunately, they saw any statistical model as a threat to their jobs, and were uncooperative in providing information. Nevertheless, the company provided a large amount of data on previous vehicles and their eventual resale values.\n",
    "\n",
    "Potential predictor variables:\n",
    "- number of seats\n",
    "- MPG\n",
    "- Age\n",
    "- Total Mileage\n",
    "- Type (Sedan, SUV)\n",
    "- Avg. Monthly Insurance Premimum\n",
    "- Popularity Score of Vehicle (how commmon is it in the population?)"
   ]
  },
  {
   "cell_type": "markdown",
   "metadata": {},
   "source": [
    "Case 4\n",
    "\n",
    "In this project, we needed to develop a model for forecasting weekly air passenger traffic on major domestic routes for one of Australia’s leading airlines. The company required forecasts of passenger numbers for each major domestic route and for each class of passenger (economy class, business class and first class). The company provided weekly traffic data from the previous six years.\n",
    "\n",
    "Air passenger numbers are affected by school holidays, major sporting events, advertising campaigns, competition behavior, etc. School holidays often do not coincide in different Australian cities, and sporting events sometimes move from one city to another. During the period of the historical data, there was a major pilots’ strike during which there was no traffic for several months. A new cut-price airline also launched and folded. Towards the end of the historical data, the airline had trialled a redistribution of some economy class seats to business class, and some business class seats to first class. After several months, however, the seat classifications reverted to the original distribution.\n",
    "\n",
    "Potential predictor variables:\n",
    "- Mileage to Destination\n",
    "- Time of Year\n",
    "- Day of Week\n",
    "- Time of Day\n",
    "- If Holiday in Origin\n",
    "- If Holiday in Destination\n",
    "- If Major Sporting Event in Origin\n",
    "- If Major Sporting Event in Destination"
   ]
  },
  {
   "cell_type": "markdown",
   "metadata": {},
   "source": [
    "In both cases a number of the variables are likely correlated."
   ]
  },
  {
   "cell_type": "markdown",
   "metadata": {},
   "source": [
    "### Question 2\n",
    "For case 3 in Section 1.5, describe the five steps of forecasting in the context of this project."
   ]
  },
  {
   "cell_type": "markdown",
   "metadata": {},
   "source": [
    "1. Problem Definition: Forecast the resale price of a used vehicle\n",
    "\n",
    "\n",
    "2. Gathering Information: Historical data on resale prices for many vehicles, specialist opinion on why some cars historically sold significantly below or above their forecasted resale price.\n",
    "\n",
    "\n",
    "3. Preliminary (exploratory) analysis: Look at the distribution of historical resale prices to see if there are any noticeable patterns, is there any obvious seasonality, what categories of cars look to be extreme outliers, does the resale price for a car brand decrease over time etc.\n",
    "\n",
    "\n",
    "4. Choosing and fitting models: I'd start off with a Linear Regression model and see if I can build good intuition on the problem within the context of the regression model.\n",
    "\n",
    "\n",
    "5. Using and evaluating a forecast model: Given initial focus on Linear Regression could use $R^2$ as my forecast metric, to facilitate expanding to other models could change forecast metric to MSE."
   ]
  }
 ],
 "metadata": {
  "kernelspec": {
   "display_name": "arp-prod",
   "language": "python",
   "name": "arp-prod"
  },
  "language_info": {
   "codemirror_mode": {
    "name": "ipython",
    "version": 3
   },
   "file_extension": ".py",
   "mimetype": "text/x-python",
   "name": "python",
   "nbconvert_exporter": "python",
   "pygments_lexer": "ipython3",
   "version": "3.7.4"
  }
 },
 "nbformat": 4,
 "nbformat_minor": 2
}
