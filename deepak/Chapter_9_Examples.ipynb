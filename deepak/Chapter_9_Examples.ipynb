{
 "cells": [
  {
   "cell_type": "markdown",
   "metadata": {},
   "source": [
    "# Install Auto Arima"
   ]
  },
  {
   "cell_type": "code",
   "execution_count": 29,
   "metadata": {},
   "outputs": [
    {
     "name": "stdout",
     "output_type": "stream",
     "text": [
      "Requirement already satisfied: pmdarima in c:\\users\\deepa\\anaconda3\\lib\\site-packages (1.5.3)\n",
      "Requirement already satisfied: pandas>=0.19 in c:\\users\\deepa\\anaconda3\\lib\\site-packages (from pmdarima) (1.0.1)\n",
      "Requirement already satisfied: numpy>=1.17.3 in c:\\users\\deepa\\anaconda3\\lib\\site-packages (from pmdarima) (1.18.1)\n",
      "Requirement already satisfied: statsmodels>=0.10.2 in c:\\users\\deepa\\anaconda3\\lib\\site-packages (from pmdarima) (0.11.0)\n",
      "Requirement already satisfied: Cython>=0.29 in c:\\users\\deepa\\anaconda3\\lib\\site-packages (from pmdarima) (0.29.15)\n",
      "Requirement already satisfied: joblib>=0.11 in c:\\users\\deepa\\anaconda3\\lib\\site-packages (from pmdarima) (0.14.1)\n",
      "Requirement already satisfied: urllib3 in c:\\users\\deepa\\anaconda3\\lib\\site-packages (from pmdarima) (1.25.8)\n",
      "Requirement already satisfied: scikit-learn>=0.22 in c:\\users\\deepa\\anaconda3\\lib\\site-packages (from pmdarima) (0.22.1)\n",
      "Requirement already satisfied: scipy>=1.3.2 in c:\\users\\deepa\\anaconda3\\lib\\site-packages (from pmdarima) (1.4.1)\n",
      "Requirement already satisfied: python-dateutil>=2.6.1 in c:\\users\\deepa\\anaconda3\\lib\\site-packages (from pandas>=0.19->pmdarima) (2.8.1)\n",
      "Requirement already satisfied: pytz>=2017.2 in c:\\users\\deepa\\anaconda3\\lib\\site-packages (from pandas>=0.19->pmdarima) (2019.3)\n",
      "Requirement already satisfied: patsy>=0.5 in c:\\users\\deepa\\anaconda3\\lib\\site-packages (from statsmodels>=0.10.2->pmdarima) (0.5.1)\n",
      "Requirement already satisfied: six>=1.5 in c:\\users\\deepa\\anaconda3\\lib\\site-packages (from python-dateutil>=2.6.1->pandas>=0.19->pmdarima) (1.14.0)\n"
     ]
    }
   ],
   "source": [
    "!pip install pmdarima"
   ]
  },
  {
   "cell_type": "code",
   "execution_count": 65,
   "metadata": {},
   "outputs": [],
   "source": [
    "#import all important modules\n",
    "import numpy as np\n",
    "import statsmodels.api as sm\n",
    "import statsmodels.formula.api as smf\n",
    "import seaborn as sns\n",
    "from matplotlib import pyplot as plt\n",
    "%matplotlib inline\n",
    "from datetime import datetime\n",
    "import pandas as pd\n",
    "import pmdarima as pm\n",
    "\n",
    "import warnings\n",
    "warnings.filterwarnings(\"ignore\")"
   ]
  },
  {
   "cell_type": "markdown",
   "metadata": {},
   "source": [
    "# Example 1"
   ]
  },
  {
   "cell_type": "code",
   "execution_count": 2,
   "metadata": {},
   "outputs": [],
   "source": [
    " df = sm.datasets.get_rdataset(\"uschange\", \"fpp2\").data"
   ]
  },
  {
   "cell_type": "code",
   "execution_count": 3,
   "metadata": {},
   "outputs": [],
   "source": [
    "df.index = pd.date_range(start = datetime(1970,1,1), end=datetime(2016, 9,30), freq='Q')\n",
    "df.index.name = 'quarter'"
   ]
  },
  {
   "cell_type": "code",
   "execution_count": 4,
   "metadata": {},
   "outputs": [
    {
     "data": {
      "text/html": [
       "<div>\n",
       "<style scoped>\n",
       "    .dataframe tbody tr th:only-of-type {\n",
       "        vertical-align: middle;\n",
       "    }\n",
       "\n",
       "    .dataframe tbody tr th {\n",
       "        vertical-align: top;\n",
       "    }\n",
       "\n",
       "    .dataframe thead th {\n",
       "        text-align: right;\n",
       "    }\n",
       "</style>\n",
       "<table border=\"1\" class=\"dataframe\">\n",
       "  <thead>\n",
       "    <tr style=\"text-align: right;\">\n",
       "      <th></th>\n",
       "      <th>Consumption</th>\n",
       "      <th>Income</th>\n",
       "      <th>Production</th>\n",
       "      <th>Savings</th>\n",
       "      <th>Unemployment</th>\n",
       "    </tr>\n",
       "    <tr>\n",
       "      <th>quarter</th>\n",
       "      <th></th>\n",
       "      <th></th>\n",
       "      <th></th>\n",
       "      <th></th>\n",
       "      <th></th>\n",
       "    </tr>\n",
       "  </thead>\n",
       "  <tbody>\n",
       "    <tr>\n",
       "      <th>1970-03-31</th>\n",
       "      <td>0.615986</td>\n",
       "      <td>0.972261</td>\n",
       "      <td>-2.452700</td>\n",
       "      <td>4.810312</td>\n",
       "      <td>0.9</td>\n",
       "    </tr>\n",
       "    <tr>\n",
       "      <th>1970-06-30</th>\n",
       "      <td>0.460376</td>\n",
       "      <td>1.169085</td>\n",
       "      <td>-0.551525</td>\n",
       "      <td>7.287992</td>\n",
       "      <td>0.5</td>\n",
       "    </tr>\n",
       "    <tr>\n",
       "      <th>1970-09-30</th>\n",
       "      <td>0.876791</td>\n",
       "      <td>1.553271</td>\n",
       "      <td>-0.358708</td>\n",
       "      <td>7.289013</td>\n",
       "      <td>0.5</td>\n",
       "    </tr>\n",
       "    <tr>\n",
       "      <th>1970-12-31</th>\n",
       "      <td>-0.274245</td>\n",
       "      <td>-0.255272</td>\n",
       "      <td>-2.185455</td>\n",
       "      <td>0.985230</td>\n",
       "      <td>0.7</td>\n",
       "    </tr>\n",
       "    <tr>\n",
       "      <th>1971-03-31</th>\n",
       "      <td>1.897371</td>\n",
       "      <td>1.987154</td>\n",
       "      <td>1.909734</td>\n",
       "      <td>3.657771</td>\n",
       "      <td>-0.1</td>\n",
       "    </tr>\n",
       "  </tbody>\n",
       "</table>\n",
       "</div>"
      ],
      "text/plain": [
       "            Consumption    Income  Production   Savings  Unemployment\n",
       "quarter                                                              \n",
       "1970-03-31     0.615986  0.972261   -2.452700  4.810312           0.9\n",
       "1970-06-30     0.460376  1.169085   -0.551525  7.287992           0.5\n",
       "1970-09-30     0.876791  1.553271   -0.358708  7.289013           0.5\n",
       "1970-12-31    -0.274245 -0.255272   -2.185455  0.985230           0.7\n",
       "1971-03-31     1.897371  1.987154    1.909734  3.657771          -0.1"
      ]
     },
     "execution_count": 4,
     "metadata": {},
     "output_type": "execute_result"
    }
   ],
   "source": [
    "df.head(5)"
   ]
  },
  {
   "cell_type": "markdown",
   "metadata": {},
   "source": [
    "# plot the data"
   ]
  },
  {
   "cell_type": "code",
   "execution_count": 5,
   "metadata": {},
   "outputs": [
    {
     "data": {
      "text/plain": [
       "Text(0.5, 0.98, 'Quarterly changes in US consumption and personal income')"
      ]
     },
     "execution_count": 5,
     "metadata": {},
     "output_type": "execute_result"
    },
    {
     "data": {
      "image/png": "[encoded data removed]",
      "text/plain": [
       "<Figure size 720x216 with 2 Axes>"
      ]
     },
     "metadata": {
      "needs_background": "light"
     },
     "output_type": "display_data"
    }
   ],
   "source": [
    "f = plt.figure(figsize=(10,3))\n",
    "ax = f.add_subplot(1,2,1)\n",
    "ax.plot(df['Consumption'], color='blue')\n",
    "ax.set_ylabel('Consumption')\n",
    "ax.set_xlabel('quarterly_period')\n",
    "ax2 =f.add_subplot(1,2,2)\n",
    "ax2.plot(df['Income'], color = 'red')\n",
    "ax2.set_ylabel('Income')\n",
    "ax2.set_xlabel('quarterly_period')\n",
    "f.suptitle('Quarterly changes in US consumption and personal income')"
   ]
  },
  {
   "cell_type": "markdown",
   "metadata": {},
   "source": [
    "# ADF Test\n",
    "The null hypothesis of the Augmented Dickey-Fuller is that there is a unit root, with the alternative that there is no unit root. If the pvalue is above a critical size, then we cannot reject that there is a unit root.\n",
    "H0: Null hypothesis is that there is unit root\n",
    "H1: Alternate hypothesis time series is stationary\n",
    "\n",
    "##### DF test:  \n",
    "          y(t) = c + theta_1 * (t) + alpha * (y(t-1)) + theta_2 * (delta(y(t-1)) + error(t)\n",
    "          y(t-1): lag1 of time seris\n",
    "          delta(y(t-1)): first differences of the series at time t-1\n",
    "          c: constant\n",
    "          H0: alpha=1\n",
    "          \n",
    "##### ADF test: add higher order difference terms, adds more thoroughness to the test\n",
    "          y(t) = c + theta_1 * (t) + alpha * (y(t-1)) + theta_2 * (delta(y(t-1)) + theta_3 * delta(y(t-2)) + error(t)\n",
    "          \n",
    "\n",
    "#### Caution: Like most unit root tests it has relatively high type I error rate\n",
    "\n",
    "##### things to check before running ADF test\n",
    "     1.) Choose regression models\n",
    "         a.) No constant, no trend (nc)\n",
    "         b.) Constant and trend (ct)\n",
    "         c.) constant, & linear & quadratic trend (ctt)\n",
    "         d.) constant only (c)  (when you see the mean is diffrently from zero)\n",
    "     2.) lag length should be chosen so that residuals aren't serially correlated. There are several options \n",
    "         such as AIC or BIC or starts with maxlag & drop the lags until last lag is statiscally significant\n"
   ]
  },
  {
   "cell_type": "code",
   "execution_count": 29,
   "metadata": {},
   "outputs": [],
   "source": [
    "def printAdfResult(result, alpha=0.05):\n",
    "    print(f'ADF Statistic: {result[0]}')\n",
    "    print(f'n_lags: {result[2]}')\n",
    "    print(f'p-value: {result[1]}')\n",
    "    print(f'n_obs: {result[3]}')\n",
    "    print(f'Information Criteria Value: {result[5]}')\n",
    "    if(result[1]<0.05):\n",
    "        print('############# result is stationary ####')\n",
    "    else:\n",
    "        print('############result is not stationary #####')\n",
    "    \n",
    "    print('Critial Values:')\n",
    "    for key, value in result[4].items():\n",
    "        print(f'   {key}, {value}')   \n",
    "        \n",
    "def check_adf_all_params(ts, default=True):\n",
    "    print('\\nchecking for constant')\n",
    "    res = sm.tsa.stattools.adfuller(ts, autolag='AIC', regresults=False, store=False)\n",
    "    printAdfResult(res)\n",
    "    if not default:\n",
    "        print('\\nchecking for constant & trend')\n",
    "        res = sm.tsa.stattools.adfuller(ts, regression= 'ct',autolag='AIC', regresults=False, store=False)\n",
    "        printAdfResult(res)\n",
    "        \n",
    "        print('\\nchecking for constant & linear & quadratic trend')\n",
    "        res = sm.tsa.stattools.adfuller(ts, regression= 'ctt',autolag='AIC', regresults=False, store=False)\n",
    "        printAdfResult(res)\n",
    "        \n",
    "        print('\\nchecking for no constant & no trend')\n",
    "        res = sm.tsa.stattools.adfuller(ts, regression= 'nc',autolag='AIC', regresults=False, store=False)\n",
    "        printAdfResult(res)\n",
    "        \n",
    "    return None\n",
    "        "
   ]
  },
  {
   "cell_type": "code",
   "execution_count": 30,
   "metadata": {},
   "outputs": [
    {
     "name": "stdout",
     "output_type": "stream",
     "text": [
      "testing stationarity of consumption\n",
      "\n",
      "checking for constant\n",
      "ADF Statistic: -4.522487471075186\n",
      "n_lags: 2\n",
      "p-value: 0.00017903842233446071\n",
      "n_obs: 184\n",
      "Information Criteria Value: 297.6963136048823\n",
      "############# result is stationary ####\n",
      "Critial Values:\n",
      "   1%, -3.466398230774071\n",
      "   5%, -2.8773796387256514\n",
      "   10%, -2.575213838610586\n",
      "\n",
      "checking for constant & trend\n",
      "ADF Statistic: -4.640511122904467\n",
      "n_lags: 2\n",
      "p-value: 0.0008812497144557214\n",
      "n_obs: 184\n",
      "Information Criteria Value: 298.7733402917287\n",
      "############# result is stationary ####\n",
      "Critial Values:\n",
      "   1%, -4.008832839770228\n",
      "   5%, -3.434625048376243\n",
      "   10%, -3.141221698677776\n",
      "\n",
      "checking for constant & linear & quadratic trend\n",
      "ADF Statistic: -4.6457852640093975\n",
      "n_lags: 2\n",
      "p-value: 0.003904752853104012\n",
      "n_obs: 184\n",
      "Information Criteria Value: 300.2927685653914\n",
      "############# result is stationary ####\n",
      "Critial Values:\n",
      "   1%, -4.435220952056536\n",
      "   5%, -3.86487409876613\n",
      "   10%, -3.5733156719443473\n",
      "\n",
      "checking for no constant & no trend\n",
      "ADF Statistic: -2.385999037328024\n",
      "n_lags: 2\n",
      "p-value: 0.016421793168199084\n",
      "n_obs: 184\n",
      "Information Criteria Value: 309.5871480493858\n",
      "############# result is stationary ####\n",
      "Critial Values:\n",
      "   1%, -2.5779982171550095\n",
      "   5%, -1.942554162032804\n",
      "   10%, -1.615452613190392\n",
      "#################### \n",
      "\n",
      "\n",
      "testing stationarity of income\n",
      "\n",
      "checking for constant\n",
      "ADF Statistic: -15.154686223583456\n",
      "n_lags: 0\n",
      "p-value: 6.7205759970491165e-28\n",
      "n_obs: 186\n",
      "Information Criteria Value: 457.3006742550437\n",
      "############# result is stationary ####\n",
      "Critial Values:\n",
      "   1%, -3.466005071659723\n",
      "   5%, -2.8772078537639385\n",
      "   10%, -2.5751221620996647\n"
     ]
    }
   ],
   "source": [
    "#check stationarity of both data points\n",
    "print('testing stationarity of consumption')\n",
    "\n",
    "check_adf_all_params(df['Consumption'], default=False)\n",
    "\n",
    "\n",
    "print('#################### \\n\\n')\n",
    "print('testing stationarity of income')\n",
    "check_adf_all_params(df['Income'], default=True)"
   ]
  },
  {
   "cell_type": "code",
   "execution_count": null,
   "metadata": {},
   "outputs": [],
   "source": [
    "arima_model = auto_arima()"
   ]
  },
  {
   "cell_type": "markdown",
   "metadata": {},
   "source": [
    "## Non-Seasonal Auto Arima Models"
   ]
  },
  {
   "cell_type": "markdown",
   "metadata": {},
   "source": [
    "### ACF Plots"
   ]
  },
  {
   "cell_type": "code",
   "execution_count": 75,
   "metadata": {},
   "outputs": [
    {
     "data": {
      "image/png": "[encoded data removed]",
      "text/plain": [
       "<Figure size 720x216 with 2 Axes>"
      ]
     },
     "metadata": {
      "needs_background": "light"
     },
     "output_type": "display_data"
    }
   ],
   "source": [
    "f2 = plt.figure(figsize=(10,3))\n",
    "ax = f2.add_subplot(121)\n",
    "pm.plot_acf(df['Consumption'], title='Consumption',ax=ax, alpha=0.05, show=False)\n",
    "ax1 = f2.add_subplot(122)\n",
    "pm.plot_acf(df['Income'], title='Income',ax=ax1, alpha=0.05, show=False)\n",
    "f.suptitle('ACF Plots')\n",
    "plt.show()"
   ]
  },
  {
   "cell_type": "markdown",
   "metadata": {},
   "source": [
    "## PACF Plots"
   ]
  },
  {
   "cell_type": "code",
   "execution_count": 76,
   "metadata": {},
   "outputs": [
    {
     "data": {
      "image/png": "[encoded data removed]",
      "text/plain": [
       "<Figure size 720x216 with 2 Axes>"
      ]
     },
     "metadata": {
      "needs_background": "light"
     },
     "output_type": "display_data"
    },
    {
     "data": {
      "text/plain": [
       "Text(0.5, 0.98, 'PACF Plots')"
      ]
     },
     "execution_count": 76,
     "metadata": {},
     "output_type": "execute_result"
    }
   ],
   "source": [
    "f = plt.figure(figsize=(10,3))\n",
    "ax = f.add_subplot(121)\n",
    "ax1 = f.add_subplot(122)\n",
    "pm.plot_pacf(df['Consumption'], title = 'Consumption',ax=ax, alpha=0.05, show=False)\n",
    "pm.plot_pacf(df['Income'], title = 'Income',ax=ax1, alpha=0.05, show=False)\n",
    "plt.show()\n",
    "f.suptitle('PACF Plots')"
   ]
  },
  {
   "cell_type": "code",
   "execution_count": 97,
   "metadata": {},
   "outputs": [
    {
     "data": {
      "image/png": "[encoded data removed]",
      "text/plain": [
       "<Figure size 576x432 with 3 Axes>"
      ]
     },
     "metadata": {
      "needs_background": "light"
     },
     "output_type": "display_data"
    }
   ],
   "source": [
    "from pmdarima.utils import tsdisplay\n",
    "tsdisplay(df['Consumption'])"
   ]
  },
  {
   "cell_type": "markdown",
   "metadata": {},
   "source": [
    "### Calculate d Parameter"
   ]
  },
  {
   "cell_type": "code",
   "execution_count": 90,
   "metadata": {},
   "outputs": [],
   "source": [
    "# Estimate the number of differences using an ADF test:\n",
    "y = df[['Consumption']]\n",
    "n_adf = pm.arima.utils.ndiffs(y, test='adf')  # -> 0\n",
    "\n",
    "# Or a KPSS test (auto_arima default):\n",
    "n_kpss = pm.arima.utils.ndiffs(y, test='kpss')  # -> 0\n",
    "\n",
    "# Or a PP test:\n",
    "n_pp = pm.arima.utils.ndiffs(y, test='pp')  # -> 0\n",
    "assert n_adf == n_kpss == n_pp == 0"
   ]
  },
  {
   "cell_type": "markdown",
   "metadata": {},
   "source": [
    "######  Stepwise Vs Parallel\n",
    "The parallel approach is a naive, brute force grid search over various combinations of hyper parameters. It will commonly take longer for several reasons. First of all, there is no intelligent procedure as to how model orders are tested; they are all tested (no short-circuiting), which can take a while."
   ]
  },
  {
   "cell_type": "code",
   "execution_count": 109,
   "metadata": {},
   "outputs": [
    {
     "data": {
      "text/html": [
       "<div>\n",
       "<style scoped>\n",
       "    .dataframe tbody tr th:only-of-type {\n",
       "        vertical-align: middle;\n",
       "    }\n",
       "\n",
       "    .dataframe tbody tr th {\n",
       "        vertical-align: top;\n",
       "    }\n",
       "\n",
       "    .dataframe thead th {\n",
       "        text-align: right;\n",
       "    }\n",
       "</style>\n",
       "<table border=\"1\" class=\"dataframe\">\n",
       "  <thead>\n",
       "    <tr style=\"text-align: right;\">\n",
       "      <th></th>\n",
       "      <th>Consumption</th>\n",
       "      <th>Income</th>\n",
       "      <th>Production</th>\n",
       "      <th>Savings</th>\n",
       "      <th>Unemployment</th>\n",
       "    </tr>\n",
       "    <tr>\n",
       "      <th>quarter</th>\n",
       "      <th></th>\n",
       "      <th></th>\n",
       "      <th></th>\n",
       "      <th></th>\n",
       "      <th></th>\n",
       "    </tr>\n",
       "  </thead>\n",
       "  <tbody>\n",
       "    <tr>\n",
       "      <th>2011-12-31</th>\n",
       "      <td>0.335939</td>\n",
       "      <td>0.060747</td>\n",
       "      <td>0.851517</td>\n",
       "      <td>-3.454477</td>\n",
       "      <td>-0.5</td>\n",
       "    </tr>\n",
       "    <tr>\n",
       "      <th>2012-03-31</th>\n",
       "      <td>0.601090</td>\n",
       "      <td>1.622049</td>\n",
       "      <td>0.886518</td>\n",
       "      <td>17.625305</td>\n",
       "      <td>-0.3</td>\n",
       "    </tr>\n",
       "    <tr>\n",
       "      <th>2012-06-30</th>\n",
       "      <td>0.169430</td>\n",
       "      <td>0.766895</td>\n",
       "      <td>0.629236</td>\n",
       "      <td>8.969497</td>\n",
       "      <td>0.0</td>\n",
       "    </tr>\n",
       "    <tr>\n",
       "      <th>2012-09-30</th>\n",
       "      <td>0.264160</td>\n",
       "      <td>-0.050715</td>\n",
       "      <td>0.078802</td>\n",
       "      <td>-3.049222</td>\n",
       "      <td>-0.4</td>\n",
       "    </tr>\n",
       "    <tr>\n",
       "      <th>2012-12-31</th>\n",
       "      <td>0.278772</td>\n",
       "      <td>2.591067</td>\n",
       "      <td>0.633055</td>\n",
       "      <td>29.046704</td>\n",
       "      <td>0.1</td>\n",
       "    </tr>\n",
       "    <tr>\n",
       "      <th>2013-03-31</th>\n",
       "      <td>0.468613</td>\n",
       "      <td>-4.265250</td>\n",
       "      <td>0.677132</td>\n",
       "      <td>-68.788267</td>\n",
       "      <td>-0.4</td>\n",
       "    </tr>\n",
       "    <tr>\n",
       "      <th>2013-06-30</th>\n",
       "      <td>0.205458</td>\n",
       "      <td>0.581465</td>\n",
       "      <td>0.307450</td>\n",
       "      <td>7.816477</td>\n",
       "      <td>0.0</td>\n",
       "    </tr>\n",
       "    <tr>\n",
       "      <th>2013-09-30</th>\n",
       "      <td>0.466418</td>\n",
       "      <td>0.583289</td>\n",
       "      <td>0.234409</td>\n",
       "      <td>3.494007</td>\n",
       "      <td>-0.3</td>\n",
       "    </tr>\n",
       "    <tr>\n",
       "      <th>2013-12-31</th>\n",
       "      <td>0.839174</td>\n",
       "      <td>0.214949</td>\n",
       "      <td>0.792087</td>\n",
       "      <td>-11.276615</td>\n",
       "      <td>-0.5</td>\n",
       "    </tr>\n",
       "    <tr>\n",
       "      <th>2014-03-31</th>\n",
       "      <td>0.473451</td>\n",
       "      <td>1.103695</td>\n",
       "      <td>0.547092</td>\n",
       "      <td>13.520202</td>\n",
       "      <td>0.0</td>\n",
       "    </tr>\n",
       "    <tr>\n",
       "      <th>2014-06-30</th>\n",
       "      <td>0.933757</td>\n",
       "      <td>1.293905</td>\n",
       "      <td>1.338011</td>\n",
       "      <td>8.244048</td>\n",
       "      <td>-0.6</td>\n",
       "    </tr>\n",
       "    <tr>\n",
       "      <th>2014-09-30</th>\n",
       "      <td>0.916872</td>\n",
       "      <td>0.998534</td>\n",
       "      <td>0.623527</td>\n",
       "      <td>2.461953</td>\n",
       "      <td>-0.2</td>\n",
       "    </tr>\n",
       "    <tr>\n",
       "      <th>2014-12-31</th>\n",
       "      <td>1.125333</td>\n",
       "      <td>1.046418</td>\n",
       "      <td>0.903554</td>\n",
       "      <td>-1.513050</td>\n",
       "      <td>-0.3</td>\n",
       "    </tr>\n",
       "    <tr>\n",
       "      <th>2015-03-31</th>\n",
       "      <td>0.596240</td>\n",
       "      <td>0.490407</td>\n",
       "      <td>-0.467109</td>\n",
       "      <td>-0.758400</td>\n",
       "      <td>-0.2</td>\n",
       "    </tr>\n",
       "    <tr>\n",
       "      <th>2015-06-30</th>\n",
       "      <td>0.708144</td>\n",
       "      <td>0.954959</td>\n",
       "      <td>-0.697022</td>\n",
       "      <td>5.023918</td>\n",
       "      <td>-0.1</td>\n",
       "    </tr>\n",
       "    <tr>\n",
       "      <th>2015-09-30</th>\n",
       "      <td>0.664970</td>\n",
       "      <td>0.801663</td>\n",
       "      <td>0.380606</td>\n",
       "      <td>3.180930</td>\n",
       "      <td>-0.3</td>\n",
       "    </tr>\n",
       "    <tr>\n",
       "      <th>2015-12-31</th>\n",
       "      <td>0.561680</td>\n",
       "      <td>0.740063</td>\n",
       "      <td>-0.845546</td>\n",
       "      <td>3.482786</td>\n",
       "      <td>0.0</td>\n",
       "    </tr>\n",
       "    <tr>\n",
       "      <th>2016-03-31</th>\n",
       "      <td>0.404682</td>\n",
       "      <td>0.519025</td>\n",
       "      <td>-0.417930</td>\n",
       "      <td>2.236534</td>\n",
       "      <td>0.0</td>\n",
       "    </tr>\n",
       "    <tr>\n",
       "      <th>2016-06-30</th>\n",
       "      <td>1.047707</td>\n",
       "      <td>0.723721</td>\n",
       "      <td>-0.203319</td>\n",
       "      <td>-2.721501</td>\n",
       "      <td>-0.1</td>\n",
       "    </tr>\n",
       "    <tr>\n",
       "      <th>2016-09-30</th>\n",
       "      <td>0.729598</td>\n",
       "      <td>0.644701</td>\n",
       "      <td>0.474918</td>\n",
       "      <td>-0.572858</td>\n",
       "      <td>0.0</td>\n",
       "    </tr>\n",
       "  </tbody>\n",
       "</table>\n",
       "</div>"
      ],
      "text/plain": [
       "            Consumption    Income  Production    Savings  Unemployment\n",
       "quarter                                                               \n",
       "2011-12-31     0.335939  0.060747    0.851517  -3.454477          -0.5\n",
       "2012-03-31     0.601090  1.622049    0.886518  17.625305          -0.3\n",
       "2012-06-30     0.169430  0.766895    0.629236   8.969497           0.0\n",
       "2012-09-30     0.264160 -0.050715    0.078802  -3.049222          -0.4\n",
       "2012-12-31     0.278772  2.591067    0.633055  29.046704           0.1\n",
       "2013-03-31     0.468613 -4.265250    0.677132 -68.788267          -0.4\n",
       "2013-06-30     0.205458  0.581465    0.307450   7.816477           0.0\n",
       "2013-09-30     0.466418  0.583289    0.234409   3.494007          -0.3\n",
       "2013-12-31     0.839174  0.214949    0.792087 -11.276615          -0.5\n",
       "2014-03-31     0.473451  1.103695    0.547092  13.520202           0.0\n",
       "2014-06-30     0.933757  1.293905    1.338011   8.244048          -0.6\n",
       "2014-09-30     0.916872  0.998534    0.623527   2.461953          -0.2\n",
       "2014-12-31     1.125333  1.046418    0.903554  -1.513050          -0.3\n",
       "2015-03-31     0.596240  0.490407   -0.467109  -0.758400          -0.2\n",
       "2015-06-30     0.708144  0.954959   -0.697022   5.023918          -0.1\n",
       "2015-09-30     0.664970  0.801663    0.380606   3.180930          -0.3\n",
       "2015-12-31     0.561680  0.740063   -0.845546   3.482786           0.0\n",
       "2016-03-31     0.404682  0.519025   -0.417930   2.236534           0.0\n",
       "2016-06-30     1.047707  0.723721   -0.203319  -2.721501          -0.1\n",
       "2016-09-30     0.729598  0.644701    0.474918  -0.572858           0.0"
      ]
     },
     "execution_count": 109,
     "metadata": {},
     "output_type": "execute_result"
    }
   ],
   "source": []
  },
  {
   "cell_type": "code",
   "execution_count": 176,
   "metadata": {},
   "outputs": [
    {
     "name": "stdout",
     "output_type": "stream",
     "text": [
      "Performing stepwise search to minimize aic\n",
      "Fit ARIMA: (1, 0, 1)x(0, 0, 0, 0) (constant=True); AIC=306.632, BIC=322.222, Time=0.148 seconds\n",
      "Fit ARIMA: (0, 0, 0)x(0, 0, 0, 0) (constant=True); AIC=317.151, BIC=326.505, Time=0.045 seconds\n",
      "Fit ARIMA: (1, 0, 0)x(0, 0, 0, 0) (constant=True); AIC=314.964, BIC=327.436, Time=0.058 seconds\n",
      "Fit ARIMA: (0, 0, 1)x(0, 0, 0, 0) (constant=True); AIC=316.896, BIC=329.368, Time=0.060 seconds\n",
      "Fit ARIMA: (0, 0, 0)x(0, 0, 0, 0) (constant=False); AIC=373.479, BIC=379.715, Time=0.039 seconds\n",
      "Fit ARIMA: (2, 0, 1)x(0, 0, 0, 0) (constant=True); AIC=304.061, BIC=322.769, Time=0.130 seconds\n",
      "Fit ARIMA: (2, 0, 0)x(0, 0, 0, 0) (constant=True); AIC=304.392, BIC=319.982, Time=0.074 seconds\n",
      "Fit ARIMA: (3, 0, 1)x(0, 0, 0, 0) (constant=True); AIC=305.113, BIC=326.939, Time=0.147 seconds\n",
      "Fit ARIMA: (2, 0, 2)x(0, 0, 0, 0) (constant=True); AIC=304.514, BIC=326.340, Time=0.191 seconds\n",
      "Fit ARIMA: (1, 0, 2)x(0, 0, 0, 0) (constant=True); AIC=303.294, BIC=322.002, Time=0.159 seconds\n",
      "Fit ARIMA: (0, 0, 2)x(0, 0, 0, 0) (constant=True); AIC=307.484, BIC=323.074, Time=0.084 seconds\n",
      "Fit ARIMA: (1, 0, 3)x(0, 0, 0, 0) (constant=True); AIC=305.222, BIC=327.048, Time=0.207 seconds\n",
      "Fit ARIMA: (0, 0, 3)x(0, 0, 0, 0) (constant=True); AIC=306.057, BIC=324.765, Time=0.102 seconds\n",
      "Fit ARIMA: (2, 0, 3)x(0, 0, 0, 0) (constant=True); AIC=307.049, BIC=331.993, Time=0.313 seconds\n",
      "Total fit time: 1.766 seconds\n"
     ]
    }
   ],
   "source": [
    "stepwise_fit = pm.auto_arima(df.iloc[:-20][['Consumption']], exogenous = df.iloc[:-20][['Income']],\n",
    "                             start_p=1, start_q=1,\n",
    "                             max_p=3, max_q=3,\n",
    "                             seasonal=False,\n",
    "                             d=0, trace=True,\n",
    "                             error_action='ignore',  # don't want to know if an order does not work\n",
    "                             suppress_warnings=True,  # don't want convergence warnings\n",
    "                             stepwise=True)  # set to stepwise\n"
   ]
  },
  {
   "cell_type": "code",
   "execution_count": 177,
   "metadata": {},
   "outputs": [
    {
     "data": {
      "text/html": [
       "<table class=\"simpletable\">\n",
       "<caption>SARIMAX Results</caption>\n",
       "<tr>\n",
       "  <th>Dep. Variable:</th>           <td>y</td>        <th>  No. Observations:  </th>    <td>167</td>  \n",
       "</tr>\n",
       "<tr>\n",
       "  <th>Model:</th>           <td>SARIMAX(1, 0, 2)</td> <th>  Log Likelihood     </th> <td>-145.647</td>\n",
       "</tr>\n",
       "<tr>\n",
       "  <th>Date:</th>            <td>Sun, 16 Aug 2020</td> <th>  AIC                </th>  <td>303.294</td>\n",
       "</tr>\n",
       "<tr>\n",
       "  <th>Time:</th>                <td>17:59:21</td>     <th>  BIC                </th>  <td>322.002</td>\n",
       "</tr>\n",
       "<tr>\n",
       "  <th>Sample:</th>             <td>03-31-1970</td>    <th>  HQIC               </th>  <td>310.887</td>\n",
       "</tr>\n",
       "<tr>\n",
       "  <th></th>                   <td>- 09-30-2011</td>   <th>                     </th>     <td> </td>   \n",
       "</tr>\n",
       "<tr>\n",
       "  <th>Covariance Type:</th>        <td>opg</td>       <th>                     </th>     <td> </td>   \n",
       "</tr>\n",
       "</table>\n",
       "<table class=\"simpletable\">\n",
       "<tr>\n",
       "      <td></td>         <th>coef</th>     <th>std err</th>      <th>z</th>      <th>P>|z|</th>  <th>[0.025</th>    <th>0.975]</th>  \n",
       "</tr>\n",
       "<tr>\n",
       "  <th>intercept</th> <td>    0.1844</td> <td>    0.075</td> <td>    2.469</td> <td> 0.014</td> <td>    0.038</td> <td>    0.331</td>\n",
       "</tr>\n",
       "<tr>\n",
       "  <th>Income</th>    <td>    0.2541</td> <td>    0.041</td> <td>    6.127</td> <td> 0.000</td> <td>    0.173</td> <td>    0.335</td>\n",
       "</tr>\n",
       "<tr>\n",
       "  <th>ar.L1</th>     <td>    0.6775</td> <td>    0.134</td> <td>    5.071</td> <td> 0.000</td> <td>    0.416</td> <td>    0.939</td>\n",
       "</tr>\n",
       "<tr>\n",
       "  <th>ma.L1</th>     <td>   -0.5739</td> <td>    0.139</td> <td>   -4.140</td> <td> 0.000</td> <td>   -0.846</td> <td>   -0.302</td>\n",
       "</tr>\n",
       "<tr>\n",
       "  <th>ma.L2</th>     <td>    0.1978</td> <td>    0.079</td> <td>    2.512</td> <td> 0.012</td> <td>    0.043</td> <td>    0.352</td>\n",
       "</tr>\n",
       "<tr>\n",
       "  <th>sigma2</th>    <td>    0.3345</td> <td>    0.029</td> <td>   11.490</td> <td> 0.000</td> <td>    0.277</td> <td>    0.392</td>\n",
       "</tr>\n",
       "</table>\n",
       "<table class=\"simpletable\">\n",
       "<tr>\n",
       "  <th>Ljung-Box (L1) (Q):</th>     <td>0.00</td> <th>  Jarque-Bera (JB):  </th> <td>19.84</td>\n",
       "</tr>\n",
       "<tr>\n",
       "  <th>Prob(Q):</th>                <td>0.97</td> <th>  Prob(JB):          </th> <td>0.00</td> \n",
       "</tr>\n",
       "<tr>\n",
       "  <th>Heteroskedasticity (H):</th> <td>0.39</td> <th>  Skew:              </th> <td>-0.41</td>\n",
       "</tr>\n",
       "<tr>\n",
       "  <th>Prob(H) (two-sided):</th>    <td>0.00</td> <th>  Kurtosis:          </th> <td>4.48</td> \n",
       "</tr>\n",
       "</table><br/><br/>Warnings:<br/>[1] Covariance matrix calculated using the outer product of gradients (complex-step)."
      ],
      "text/plain": [
       "<class 'statsmodels.iolib.summary.Summary'>\n",
       "\"\"\"\n",
       "                               SARIMAX Results                                \n",
       "==============================================================================\n",
       "Dep. Variable:                      y   No. Observations:                  167\n",
       "Model:               SARIMAX(1, 0, 2)   Log Likelihood                -145.647\n",
       "Date:                Sun, 16 Aug 2020   AIC                            303.294\n",
       "Time:                        17:59:21   BIC                            322.002\n",
       "Sample:                    03-31-1970   HQIC                           310.887\n",
       "                         - 09-30-2011                                         \n",
       "Covariance Type:                  opg                                         \n",
       "==============================================================================\n",
       "                 coef    std err          z      P>|z|      [0.025      0.975]\n",
       "------------------------------------------------------------------------------\n",
       "intercept      0.1844      0.075      2.469      0.014       0.038       0.331\n",
       "Income         0.2541      0.041      6.127      0.000       0.173       0.335\n",
       "ar.L1          0.6775      0.134      5.071      0.000       0.416       0.939\n",
       "ma.L1         -0.5739      0.139     -4.140      0.000      -0.846      -0.302\n",
       "ma.L2          0.1978      0.079      2.512      0.012       0.043       0.352\n",
       "sigma2         0.3345      0.029     11.490      0.000       0.277       0.392\n",
       "===================================================================================\n",
       "Ljung-Box (L1) (Q):                   0.00   Jarque-Bera (JB):                19.84\n",
       "Prob(Q):                              0.97   Prob(JB):                         0.00\n",
       "Heteroskedasticity (H):               0.39   Skew:                            -0.41\n",
       "Prob(H) (two-sided):                  0.00   Kurtosis:                         4.48\n",
       "===================================================================================\n",
       "\n",
       "Warnings:\n",
       "[1] Covariance matrix calculated using the outer product of gradients (complex-step).\n",
       "\"\"\""
      ]
     },
     "execution_count": 177,
     "metadata": {},
     "output_type": "execute_result"
    }
   ],
   "source": [
    "stepwise_fit.summary()"
   ]
  },
  {
   "cell_type": "markdown",
   "metadata": {},
   "source": [
    "### Pipeline"
   ]
  },
  {
   "cell_type": "code",
   "execution_count": 178,
   "metadata": {},
   "outputs": [],
   "source": [
    "# from pmdarima.pipeline import Pipeline\n",
    "# from pmdarima.preprocessing import BoxCoxEndogTransformer, LogEndogTransformer\n",
    "\n",
    "# pipeline = Pipeline([\n",
    "#     (\"boxcox\", BoxCoxEndogTransformer()),\n",
    "#     (\"model\", pm.AutoARIMA(seasonal=False, suppress_warnings=True))\n",
    "# ])\n",
    "\n",
    "# pipeline.fit(df['Consumption'])\n",
    "# pipeline.predict(5)\n",
    "\n",
    "# ## forecast will be on the same scale as the original data, pipeline is smart enough to take care of that"
   ]
  },
  {
   "cell_type": "markdown",
   "metadata": {},
   "source": [
    "## Forecast"
   ]
  },
  {
   "cell_type": "code",
   "execution_count": 179,
   "metadata": {},
   "outputs": [
    {
     "ename": "ValueError",
     "evalue": "A constant trend was included in the model specification, but the `exog` data already contains a column of constants.",
     "output_type": "error",
     "traceback": [
      "\u001b[1;31m---------------------------------------------------------------------------\u001b[0m",
      "\u001b[1;31mValueError\u001b[0m                                Traceback (most recent call last)",
      "\u001b[1;32m<ipython-input-179-49d114959e94>\u001b[0m in \u001b[0;36m<module>\u001b[1;34m\u001b[0m\n\u001b[0;32m     19\u001b[0m     \u001b[0my\u001b[0m \u001b[1;33m=\u001b[0m \u001b[0mpd\u001b[0m\u001b[1;33m.\u001b[0m\u001b[0mDataFrame\u001b[0m\u001b[1;33m(\u001b[0m\u001b[0mindex\u001b[0m \u001b[1;33m=\u001b[0m \u001b[1;33m[\u001b[0m\u001b[0mindex\u001b[0m\u001b[1;33m]\u001b[0m\u001b[1;33m,\u001b[0m \u001b[0mcolumns\u001b[0m\u001b[1;33m=\u001b[0m\u001b[1;33m[\u001b[0m\u001b[1;34m'Consumption'\u001b[0m\u001b[1;33m]\u001b[0m\u001b[1;33m,\u001b[0m \u001b[0mdata\u001b[0m\u001b[1;33m=\u001b[0m\u001b[1;33m[\u001b[0m\u001b[0mrow\u001b[0m\u001b[1;33m[\u001b[0m\u001b[1;34m'Consumption'\u001b[0m\u001b[1;33m]\u001b[0m\u001b[1;33m]\u001b[0m\u001b[1;33m)\u001b[0m\u001b[1;33m\u001b[0m\u001b[1;33m\u001b[0m\u001b[0m\n\u001b[0;32m     20\u001b[0m     \u001b[0my\u001b[0m\u001b[1;33m.\u001b[0m\u001b[0mindex\u001b[0m\u001b[1;33m.\u001b[0m\u001b[0mname\u001b[0m\u001b[1;33m=\u001b[0m\u001b[1;34m'quarter'\u001b[0m\u001b[1;33m\u001b[0m\u001b[1;33m\u001b[0m\u001b[0m\n\u001b[1;32m---> 21\u001b[1;33m     \u001b[0mfc\u001b[0m\u001b[1;33m,\u001b[0m \u001b[0mconf\u001b[0m \u001b[1;33m=\u001b[0m \u001b[0mforecast_one_step\u001b[0m\u001b[1;33m(\u001b[0m\u001b[0mmodel\u001b[0m\u001b[1;33m,\u001b[0m \u001b[0mexo\u001b[0m\u001b[1;33m=\u001b[0m \u001b[0mx\u001b[0m\u001b[1;33m)\u001b[0m\u001b[1;33m\u001b[0m\u001b[1;33m\u001b[0m\u001b[0m\n\u001b[0m\u001b[0;32m     22\u001b[0m     \u001b[0mforecasts\u001b[0m\u001b[1;33m.\u001b[0m\u001b[0mappend\u001b[0m\u001b[1;33m(\u001b[0m\u001b[0mfc\u001b[0m\u001b[1;33m)\u001b[0m\u001b[1;33m\u001b[0m\u001b[1;33m\u001b[0m\u001b[0m\n\u001b[0;32m     23\u001b[0m     \u001b[0mconfidence_intervals\u001b[0m\u001b[1;33m.\u001b[0m\u001b[0mappend\u001b[0m\u001b[1;33m(\u001b[0m\u001b[0mconf\u001b[0m\u001b[1;33m)\u001b[0m\u001b[1;33m\u001b[0m\u001b[1;33m\u001b[0m\u001b[0m\n",
      "\u001b[1;32m<ipython-input-179-49d114959e94>\u001b[0m in \u001b[0;36mforecast_one_step\u001b[1;34m(model, exo)\u001b[0m\n\u001b[0;32m      5\u001b[0m \u001b[1;33m\u001b[0m\u001b[0m\n\u001b[0;32m      6\u001b[0m \u001b[1;32mdef\u001b[0m \u001b[0mforecast_one_step\u001b[0m\u001b[1;33m(\u001b[0m\u001b[0mmodel\u001b[0m\u001b[1;33m,\u001b[0m \u001b[0mexo\u001b[0m\u001b[1;33m=\u001b[0m\u001b[1;32mNone\u001b[0m\u001b[1;33m)\u001b[0m\u001b[1;33m:\u001b[0m\u001b[1;33m\u001b[0m\u001b[1;33m\u001b[0m\u001b[0m\n\u001b[1;32m----> 7\u001b[1;33m     \u001b[0mfc\u001b[0m\u001b[1;33m,\u001b[0m \u001b[0mconf_int\u001b[0m \u001b[1;33m=\u001b[0m \u001b[0mmodel\u001b[0m\u001b[1;33m.\u001b[0m\u001b[0mpredict\u001b[0m\u001b[1;33m(\u001b[0m\u001b[0mn_periods\u001b[0m\u001b[1;33m=\u001b[0m\u001b[1;36m1\u001b[0m\u001b[1;33m,\u001b[0m \u001b[0mreturn_conf_int\u001b[0m\u001b[1;33m=\u001b[0m\u001b[1;32mTrue\u001b[0m\u001b[1;33m,\u001b[0m \u001b[0mexogenous\u001b[0m\u001b[1;33m=\u001b[0m\u001b[0mexo\u001b[0m\u001b[1;33m)\u001b[0m\u001b[1;33m\u001b[0m\u001b[1;33m\u001b[0m\u001b[0m\n\u001b[0m\u001b[0;32m      8\u001b[0m     return (\n\u001b[0;32m      9\u001b[0m         \u001b[0mfc\u001b[0m\u001b[1;33m.\u001b[0m\u001b[0mtolist\u001b[0m\u001b[1;33m(\u001b[0m\u001b[1;33m)\u001b[0m\u001b[1;33m[\u001b[0m\u001b[1;36m0\u001b[0m\u001b[1;33m]\u001b[0m\u001b[1;33m,\u001b[0m\u001b[1;33m\u001b[0m\u001b[1;33m\u001b[0m\u001b[0m\n",
      "\u001b[1;32m~\\anaconda3\\lib\\site-packages\\pmdarima\\arima\\arima.py\u001b[0m in \u001b[0;36mpredict\u001b[1;34m(self, n_periods, exogenous, return_conf_int, alpha)\u001b[0m\n\u001b[0;32m    639\u001b[0m             \u001b[0mend\u001b[0m\u001b[1;33m=\u001b[0m\u001b[0mend\u001b[0m\u001b[1;33m,\u001b[0m\u001b[1;33m\u001b[0m\u001b[1;33m\u001b[0m\u001b[0m\n\u001b[0;32m    640\u001b[0m             \u001b[0mexog\u001b[0m\u001b[1;33m=\u001b[0m\u001b[0mexogenous\u001b[0m\u001b[1;33m,\u001b[0m\u001b[1;33m\u001b[0m\u001b[1;33m\u001b[0m\u001b[0m\n\u001b[1;32m--> 641\u001b[1;33m             alpha=alpha)\n\u001b[0m\u001b[0;32m    642\u001b[0m \u001b[1;33m\u001b[0m\u001b[0m\n\u001b[0;32m    643\u001b[0m         \u001b[1;32mif\u001b[0m \u001b[0mreturn_conf_int\u001b[0m\u001b[1;33m:\u001b[0m\u001b[1;33m\u001b[0m\u001b[1;33m\u001b[0m\u001b[0m\n",
      "\u001b[1;32m~\\anaconda3\\lib\\site-packages\\pmdarima\\arima\\arima.py\u001b[0m in \u001b[0;36m_seasonal_prediction_with_confidence\u001b[1;34m(arima_res, start, end, exog, alpha, **kwargs)\u001b[0m\n\u001b[0;32m     83\u001b[0m         \u001b[0mend\u001b[0m\u001b[1;33m=\u001b[0m\u001b[0mend\u001b[0m\u001b[1;33m,\u001b[0m\u001b[1;33m\u001b[0m\u001b[1;33m\u001b[0m\u001b[0m\n\u001b[0;32m     84\u001b[0m         \u001b[0mexog\u001b[0m\u001b[1;33m=\u001b[0m\u001b[0mexog\u001b[0m\u001b[1;33m,\u001b[0m\u001b[1;33m\u001b[0m\u001b[1;33m\u001b[0m\u001b[0m\n\u001b[1;32m---> 85\u001b[1;33m         **kwargs)\n\u001b[0m\u001b[0;32m     86\u001b[0m \u001b[1;33m\u001b[0m\u001b[0m\n\u001b[0;32m     87\u001b[0m     \u001b[0mf\u001b[0m \u001b[1;33m=\u001b[0m \u001b[0mresults\u001b[0m\u001b[1;33m.\u001b[0m\u001b[0mpredicted_mean\u001b[0m\u001b[1;33m\u001b[0m\u001b[1;33m\u001b[0m\u001b[0m\n",
      "\u001b[1;32m~\\anaconda3\\lib\\site-packages\\statsmodels\\tsa\\statespace\\mlemodel.py\u001b[0m in \u001b[0;36mget_prediction\u001b[1;34m(self, start, end, dynamic, index, exog, extend_model, extend_kwargs, **kwargs)\u001b[0m\n\u001b[0;32m   3301\u001b[0m             kwargs = self.model._get_extension_time_varying_matrices(\n\u001b[0;32m   3302\u001b[0m                 \u001b[0mself\u001b[0m\u001b[1;33m.\u001b[0m\u001b[0mparams\u001b[0m\u001b[1;33m,\u001b[0m \u001b[0mexog\u001b[0m\u001b[1;33m,\u001b[0m \u001b[0mout_of_sample\u001b[0m\u001b[1;33m,\u001b[0m \u001b[0mextend_kwargs\u001b[0m\u001b[1;33m,\u001b[0m\u001b[1;33m\u001b[0m\u001b[1;33m\u001b[0m\u001b[0m\n\u001b[1;32m-> 3303\u001b[1;33m                 transformed=True, includes_fixed=True, **kwargs)\n\u001b[0m\u001b[0;32m   3304\u001b[0m \u001b[1;33m\u001b[0m\u001b[0m\n\u001b[0;32m   3305\u001b[0m         \u001b[1;31m# Make sure the model class has the current parameters\u001b[0m\u001b[1;33m\u001b[0m\u001b[1;33m\u001b[0m\u001b[1;33m\u001b[0m\u001b[0m\n",
      "\u001b[1;32m~\\anaconda3\\lib\\site-packages\\statsmodels\\tsa\\statespace\\sarimax.py\u001b[0m in \u001b[0;36m_get_extension_time_varying_matrices\u001b[1;34m(self, params, exog, out_of_sample, extend_kwargs, transformed, includes_fixed, **kwargs)\u001b[0m\n\u001b[0;32m   1736\u001b[0m                 'trend_offset', self.trend_offset + self.nobs)\n\u001b[0;32m   1737\u001b[0m         mod_extend = self.clone(\n\u001b[1;32m-> 1738\u001b[1;33m             endog=tmp_endog, exog=tmp_exog, **extend_kwargs)\n\u001b[0m\u001b[0;32m   1739\u001b[0m         mod_extend.update(params, transformed=transformed,\n\u001b[0;32m   1740\u001b[0m                           includes_fixed=includes_fixed)\n",
      "\u001b[1;32m~\\anaconda3\\lib\\site-packages\\statsmodels\\tsa\\statespace\\sarimax.py\u001b[0m in \u001b[0;36mclone\u001b[1;34m(self, endog, exog, **kwargs)\u001b[0m\n\u001b[0;32m    810\u001b[0m \u001b[1;33m\u001b[0m\u001b[0m\n\u001b[0;32m    811\u001b[0m     \u001b[1;32mdef\u001b[0m \u001b[0mclone\u001b[0m\u001b[1;33m(\u001b[0m\u001b[0mself\u001b[0m\u001b[1;33m,\u001b[0m \u001b[0mendog\u001b[0m\u001b[1;33m,\u001b[0m \u001b[0mexog\u001b[0m\u001b[1;33m=\u001b[0m\u001b[1;32mNone\u001b[0m\u001b[1;33m,\u001b[0m \u001b[1;33m**\u001b[0m\u001b[0mkwargs\u001b[0m\u001b[1;33m)\u001b[0m\u001b[1;33m:\u001b[0m\u001b[1;33m\u001b[0m\u001b[1;33m\u001b[0m\u001b[0m\n\u001b[1;32m--> 812\u001b[1;33m         \u001b[1;32mreturn\u001b[0m \u001b[0mself\u001b[0m\u001b[1;33m.\u001b[0m\u001b[0m_clone_from_init_kwds\u001b[0m\u001b[1;33m(\u001b[0m\u001b[0mendog\u001b[0m\u001b[1;33m,\u001b[0m \u001b[0mexog\u001b[0m\u001b[1;33m=\u001b[0m\u001b[0mexog\u001b[0m\u001b[1;33m,\u001b[0m \u001b[1;33m**\u001b[0m\u001b[0mkwargs\u001b[0m\u001b[1;33m)\u001b[0m\u001b[1;33m\u001b[0m\u001b[1;33m\u001b[0m\u001b[0m\n\u001b[0m\u001b[0;32m    813\u001b[0m \u001b[1;33m\u001b[0m\u001b[0m\n\u001b[0;32m    814\u001b[0m     \u001b[1;33m@\u001b[0m\u001b[0mproperty\u001b[0m\u001b[1;33m\u001b[0m\u001b[1;33m\u001b[0m\u001b[0m\n",
      "\u001b[1;32m~\\anaconda3\\lib\\site-packages\\statsmodels\\tsa\\statespace\\mlemodel.py\u001b[0m in \u001b[0;36m_clone_from_init_kwds\u001b[1;34m(self, endog, **kwargs)\u001b[0m\n\u001b[0;32m    291\u001b[0m                              ' the `exog` argument.')\n\u001b[0;32m    292\u001b[0m \u001b[1;33m\u001b[0m\u001b[0m\n\u001b[1;32m--> 293\u001b[1;33m         \u001b[0mmod\u001b[0m \u001b[1;33m=\u001b[0m \u001b[0mself\u001b[0m\u001b[1;33m.\u001b[0m\u001b[0m__class__\u001b[0m\u001b[1;33m(\u001b[0m\u001b[0mendog\u001b[0m\u001b[1;33m,\u001b[0m \u001b[1;33m**\u001b[0m\u001b[0muse_kwargs\u001b[0m\u001b[1;33m)\u001b[0m\u001b[1;33m\u001b[0m\u001b[1;33m\u001b[0m\u001b[0m\n\u001b[0m\u001b[0;32m    294\u001b[0m         \u001b[1;32mreturn\u001b[0m \u001b[0mmod\u001b[0m\u001b[1;33m\u001b[0m\u001b[1;33m\u001b[0m\u001b[0m\n\u001b[0;32m    295\u001b[0m \u001b[1;33m\u001b[0m\u001b[0m\n",
      "\u001b[1;32m~\\anaconda3\\lib\\site-packages\\statsmodels\\tsa\\statespace\\sarimax.py\u001b[0m in \u001b[0;36m__init__\u001b[1;34m(self, endog, exog, order, seasonal_order, trend, measurement_error, time_varying_regression, mle_regression, simple_differencing, enforce_stationarity, enforce_invertibility, hamilton_representation, concentrate_scale, trend_offset, use_exact_diffuse, dates, freq, missing, **kwargs)\u001b[0m\n\u001b[0;32m    329\u001b[0m             \u001b[0mtrend\u001b[0m\u001b[1;33m=\u001b[0m\u001b[0mtrend\u001b[0m\u001b[1;33m,\u001b[0m \u001b[0menforce_stationarity\u001b[0m\u001b[1;33m=\u001b[0m\u001b[1;32mNone\u001b[0m\u001b[1;33m,\u001b[0m \u001b[0menforce_invertibility\u001b[0m\u001b[1;33m=\u001b[0m\u001b[1;32mNone\u001b[0m\u001b[1;33m,\u001b[0m\u001b[1;33m\u001b[0m\u001b[1;33m\u001b[0m\u001b[0m\n\u001b[0;32m    330\u001b[0m             \u001b[0mconcentrate_scale\u001b[0m\u001b[1;33m=\u001b[0m\u001b[0mconcentrate_scale\u001b[0m\u001b[1;33m,\u001b[0m \u001b[0mdates\u001b[0m\u001b[1;33m=\u001b[0m\u001b[0mdates\u001b[0m\u001b[1;33m,\u001b[0m \u001b[0mfreq\u001b[0m\u001b[1;33m=\u001b[0m\u001b[0mfreq\u001b[0m\u001b[1;33m,\u001b[0m\u001b[1;33m\u001b[0m\u001b[1;33m\u001b[0m\u001b[0m\n\u001b[1;32m--> 331\u001b[1;33m             missing=missing)\n\u001b[0m\u001b[0;32m    332\u001b[0m         \u001b[0mself\u001b[0m\u001b[1;33m.\u001b[0m\u001b[0m_params\u001b[0m \u001b[1;33m=\u001b[0m \u001b[0mSARIMAXParams\u001b[0m\u001b[1;33m(\u001b[0m\u001b[0mself\u001b[0m\u001b[1;33m.\u001b[0m\u001b[0m_spec\u001b[0m\u001b[1;33m)\u001b[0m\u001b[1;33m\u001b[0m\u001b[1;33m\u001b[0m\u001b[0m\n\u001b[0;32m    333\u001b[0m \u001b[1;33m\u001b[0m\u001b[0m\n",
      "\u001b[1;32m~\\anaconda3\\lib\\site-packages\\statsmodels\\tsa\\arima\\specification.py\u001b[0m in \u001b[0;36m__init__\u001b[1;34m(self, endog, exog, order, seasonal_order, ar_order, diff, ma_order, seasonal_ar_order, seasonal_diff, seasonal_ma_order, seasonal_periods, trend, enforce_stationarity, enforce_invertibility, concentrate_scale, trend_offset, dates, freq, missing)\u001b[0m\n\u001b[0;32m    387\u001b[0m             \u001b[1;31m# If we already have a constant column, raise an error\u001b[0m\u001b[1;33m\u001b[0m\u001b[1;33m\u001b[0m\u001b[1;33m\u001b[0m\u001b[0m\n\u001b[0;32m    388\u001b[0m             \u001b[1;32mif\u001b[0m \u001b[0mnp\u001b[0m\u001b[1;33m.\u001b[0m\u001b[0many\u001b[0m\u001b[1;33m(\u001b[0m\u001b[0mcol_const\u001b[0m\u001b[1;33m)\u001b[0m\u001b[1;33m:\u001b[0m\u001b[1;33m\u001b[0m\u001b[1;33m\u001b[0m\u001b[0m\n\u001b[1;32m--> 389\u001b[1;33m                 raise ValueError('A constant trend was included in the model'\n\u001b[0m\u001b[0;32m    390\u001b[0m                                  \u001b[1;34m' specification, but the `exog` data already'\u001b[0m\u001b[1;33m\u001b[0m\u001b[1;33m\u001b[0m\u001b[0m\n\u001b[0;32m    391\u001b[0m                                  ' contains a column of constants.')\n",
      "\u001b[1;31mValueError\u001b[0m: A constant trend was included in the model specification, but the `exog` data already contains a column of constants."
     ]
    }
   ],
   "source": [
    "from sklearn.metrics import mean_squared_error\n",
    "from pmdarima.metrics import smape\n",
    "\n",
    "model = stepwise_fit  # seeded from the model we've already fit\n",
    "\n",
    "def forecast_one_step(model, exo=None):\n",
    "    fc, conf_int = model.predict(n_periods=1, return_conf_int=True, exogenous=exo)\n",
    "    return (\n",
    "        fc.tolist()[0],\n",
    "        np.asarray(conf_int).tolist()[0])\n",
    "\n",
    "forecasts = []\n",
    "confidence_intervals = []\n",
    "\n",
    "y_test = df.iloc[-20:]\n",
    "for index, row in y_test.iterrows():\n",
    "    x = pd.DataFrame(index = [index], columns=['Income'], data=[row['Income']])\n",
    "    x.index.name='quarter'\n",
    "    y = pd.DataFrame(index = [index], columns=['Consumption'], data=[row['Consumption']])\n",
    "    y.index.name='quarter'\n",
    "    fc, conf = forecast_one_step(model, exo= x)\n",
    "    forecasts.append(fc)\n",
    "    confidence_intervals.append(conf)\n",
    "\n",
    "    # Updates the existing model with a small number of MLE steps\n",
    "    model.update(y, exogenous=x)\n",
    "\n",
    "print(f\"Mean squared error: {mean_squared_error(y_test, forecasts)}\")\n",
    "print(f\"SMAPE: {smape(y_test, forecasts)}\")"
   ]
  },
  {
   "cell_type": "code",
   "execution_count": 171,
   "metadata": {},
   "outputs": [
    {
     "name": "stdout",
     "output_type": "stream",
     "text": [
      "(1, 1)\n",
      "(1, 1)\n",
      "(1, 1)\n",
      "(1, 1)\n",
      "(1, 1)\n",
      "(1, 1)\n",
      "(1, 1)\n",
      "(1, 1)\n",
      "(1, 1)\n",
      "(1, 1)\n",
      "(1, 1)\n",
      "(1, 1)\n",
      "(1, 1)\n",
      "(1, 1)\n",
      "(1, 1)\n",
      "(1, 1)\n",
      "(1, 1)\n",
      "(1, 1)\n",
      "(1, 1)\n",
      "(1, 1)\n"
     ]
    }
   ],
   "source": [
    "for index, row in y_test.iterrows():\n",
    "    x = pd.DataFrame(index = [index],columns=['Income'], data=[row['Income']])\n",
    "    x.index.name='quarter'\n",
    "    print(x.shape)\n",
    "    y = pd.DataFrame(index = [index], columns=['Consumption'], data=[row['Consumption']])[['Consumption']]\n",
    "    "
   ]
  },
  {
   "cell_type": "code",
   "execution_count": 169,
   "metadata": {},
   "outputs": [],
   "source": [
    "?stepwise_fit.predict"
   ]
  },
  {
   "cell_type": "code",
   "execution_count": 167,
   "metadata": {},
   "outputs": [
    {
     "data": {
      "text/plain": [
       "array([ 1,  2,  3,  4,  5,  6,  7,  8,  9, 10, 11, 12, 13])"
      ]
     },
     "execution_count": 167,
     "metadata": {},
     "output_type": "execute_result"
    }
   ],
   "source": [
    "np.array(range(1,14))"
   ]
  },
  {
   "cell_type": "code",
   "execution_count": null,
   "metadata": {},
   "outputs": [],
   "source": [
    "np.array([1])"
   ]
  }
 ],
 "metadata": {
  "kernelspec": {
   "display_name": "Python 3",
   "language": "python",
   "name": "python3"
  },
  "language_info": {
   "codemirror_mode": {
    "name": "ipython",
    "version": 3
   },
   "file_extension": ".py",
   "mimetype": "text/x-python",
   "name": "python",
   "nbconvert_exporter": "python",
   "pygments_lexer": "ipython3",
   "version": "3.7.6"
  }
 },
 "nbformat": 4,
 "nbformat_minor": 4
}
