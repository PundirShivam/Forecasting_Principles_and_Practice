{
 "cells": [
  {
   "cell_type": "code",
   "execution_count": 1,
   "metadata": {},
   "outputs": [],
   "source": [
    "import statsmodels.api as sm\n",
    "import pandas as pd\n",
    "import numpy as np\n",
    "import seaborn as sns\n",
    "from scipy.stats import skew,kurtosis\n",
    "import matplotlib.pyplot as plt"
   ]
  },
  {
   "cell_type": "code",
   "execution_count": 2,
   "metadata": {},
   "outputs": [
    {
     "name": "stderr",
     "output_type": "stream",
     "text": [
      "C:\\Users\\91882\\Anaconda3\\lib\\site-packages\\seaborn\\utils.py:384: UserWarning: No parser was explicitly specified, so I'm using the best available HTML parser for this system (\"lxml\"). This usually isn't a problem, but if you run this code on another system, or in a different virtual environment, it may use a different parser and behave differently.\n",
      "\n",
      "The code that caused this warning is on line 384 of the file C:\\Users\\91882\\Anaconda3\\lib\\site-packages\\seaborn\\utils.py. To get rid of this warning, pass the additional argument 'features=\"lxml\"' to the BeautifulSoup constructor.\n",
      "\n",
      "  gh_list = BeautifulSoup(http)\n"
     ]
    },
    {
     "name": "stdout",
     "output_type": "stream",
     "text": [
      "['anscombe', 'attention', 'brain_networks', 'car_crashes', 'diamonds', 'dots', 'exercise', 'flights', 'fmri', 'gammas', 'geyser', 'iris', 'mpg', 'penguins', 'planets', 'tips', 'titanic']\n"
     ]
    }
   ],
   "source": [
    "print(sns.get_dataset_names())"
   ]
  },
  {
   "cell_type": "code",
   "execution_count": 3,
   "metadata": {},
   "outputs": [],
   "source": [
    "tips = sns.load_dataset(\"tips\")"
   ]
  },
  {
   "cell_type": "code",
   "execution_count": 4,
   "metadata": {},
   "outputs": [
    {
     "name": "stdout",
     "output_type": "stream",
     "text": [
      "Sex [Female, Male]\n",
      "Categories (2, object): [Female, Male]\n",
      "Time [Dinner, Lunch]\n",
      "Categories (2, object): [Dinner, Lunch]\n",
      "Day [Sun, Sat, Thur, Fri]\n",
      "Categories (4, object): [Sun, Sat, Thur, Fri]\n",
      "smoker [No, Yes]\n",
      "Categories (2, object): [No, Yes]\n",
      "size [2 3 4 1 6 5]\n"
     ]
    }
   ],
   "source": [
    "print (\"Sex\",tips.sex.unique())\n",
    "print (\"Time\",tips.time.unique())\n",
    "print (\"Day\",tips.day.unique())\n",
    "print (\"smoker\",tips.smoker.unique())\n",
    "print (\"size\",tips['size'].unique())"
   ]
  },
  {
   "cell_type": "code",
   "execution_count": 5,
   "metadata": {},
   "outputs": [],
   "source": [
    "def add_categorical(df,col):\n",
    "    df = pd.concat([df,pd.get_dummies(df[col])],1)\n",
    "    return df"
   ]
  },
  {
   "cell_type": "code",
   "execution_count": 6,
   "metadata": {},
   "outputs": [],
   "source": [
    "dummy_cols = ['sex','time','day','smoker']\n",
    "for col in dummy_cols:\n",
    "    tips = add_categorical(tips,col)"
   ]
  },
  {
   "cell_type": "code",
   "execution_count": 7,
   "metadata": {},
   "outputs": [
    {
     "name": "stdout",
     "output_type": "stream",
     "text": [
      "columns in tips data set are : ['total_bill', 'tip', 'sex', 'smoker', 'day', 'time', 'size', 'Male', 'Female', 'Lunch', 'Dinner', 'Thur', 'Fri', 'Sat', 'Sun', 'Yes', 'No']\n"
     ]
    }
   ],
   "source": [
    "print (\"columns in tips data set are :\",tips.columns.tolist())"
   ]
  },
  {
   "cell_type": "code",
   "execution_count": 8,
   "metadata": {},
   "outputs": [],
   "source": [
    "y = tips['tip']\n",
    "features = ['total_bill','Female','Yes','Dinner','Thur','Fri','Sat'] # yes means smoker\n",
    "x =  tips[features]"
   ]
  },
  {
   "cell_type": "code",
   "execution_count": 9,
   "metadata": {},
   "outputs": [
    {
     "name": "stderr",
     "output_type": "stream",
     "text": [
      "C:\\Users\\91882\\Anaconda3\\lib\\site-packages\\numpy\\core\\fromnumeric.py:2542: FutureWarning: Method .ptp is deprecated and will be removed in a future version. Use numpy.ptp instead.\n",
      "  return ptp(axis=axis, out=out, **kwargs)\n"
     ]
    }
   ],
   "source": [
    "x = sm.add_constant(x)"
   ]
  },
  {
   "cell_type": "code",
   "execution_count": 10,
   "metadata": {},
   "outputs": [],
   "source": [
    "model = sm.OLS(y,x,missing='drop')"
   ]
  },
  {
   "cell_type": "code",
   "execution_count": 11,
   "metadata": {},
   "outputs": [],
   "source": [
    "fit = model.fit()"
   ]
  },
  {
   "cell_type": "code",
   "execution_count": 12,
   "metadata": {},
   "outputs": [
    {
     "data": {
      "text/html": [
       "<table class=\"simpletable\">\n",
       "<caption>OLS Regression Results</caption>\n",
       "<tr>\n",
       "  <th>Dep. Variable:</th>           <td>tip</td>       <th>  R-squared:         </th> <td>   0.461</td>\n",
       "</tr>\n",
       "<tr>\n",
       "  <th>Model:</th>                   <td>OLS</td>       <th>  Adj. R-squared:    </th> <td>   0.445</td>\n",
       "</tr>\n",
       "<tr>\n",
       "  <th>Method:</th>             <td>Least Squares</td>  <th>  F-statistic:       </th> <td>   28.88</td>\n",
       "</tr>\n",
       "<tr>\n",
       "  <th>Date:</th>             <td>Tue, 11 Aug 2020</td> <th>  Prob (F-statistic):</th> <td>1.37e-28</td>\n",
       "</tr>\n",
       "<tr>\n",
       "  <th>Time:</th>                 <td>20:59:15</td>     <th>  Log-Likelihood:    </th> <td> -349.47</td>\n",
       "</tr>\n",
       "<tr>\n",
       "  <th>No. Observations:</th>      <td>   244</td>      <th>  AIC:               </th> <td>   714.9</td>\n",
       "</tr>\n",
       "<tr>\n",
       "  <th>Df Residuals:</th>          <td>   236</td>      <th>  BIC:               </th> <td>   742.9</td>\n",
       "</tr>\n",
       "<tr>\n",
       "  <th>Df Model:</th>              <td>     7</td>      <th>                     </th>     <td> </td>   \n",
       "</tr>\n",
       "<tr>\n",
       "  <th>Covariance Type:</th>      <td>nonrobust</td>    <th>                     </th>     <td> </td>   \n",
       "</tr>\n",
       "</table>\n",
       "<table class=\"simpletable\">\n",
       "<tr>\n",
       "       <td></td>         <th>coef</th>     <th>std err</th>      <th>t</th>      <th>P>|t|</th>  <th>[0.025</th>    <th>0.975]</th>  \n",
       "</tr>\n",
       "<tr>\n",
       "  <th>const</th>      <td>    1.1462</td> <td>    0.479</td> <td>    2.395</td> <td> 0.017</td> <td>    0.203</td> <td>    2.089</td>\n",
       "</tr>\n",
       "<tr>\n",
       "  <th>total_bill</th> <td>    0.1059</td> <td>    0.008</td> <td>   13.788</td> <td> 0.000</td> <td>    0.091</td> <td>    0.121</td>\n",
       "</tr>\n",
       "<tr>\n",
       "  <th>Female</th>     <td>    0.0376</td> <td>    0.142</td> <td>    0.264</td> <td> 0.792</td> <td>   -0.243</td> <td>    0.318</td>\n",
       "</tr>\n",
       "<tr>\n",
       "  <th>Yes</th>        <td>   -0.1418</td> <td>    0.145</td> <td>   -0.980</td> <td> 0.328</td> <td>   -0.427</td> <td>    0.143</td>\n",
       "</tr>\n",
       "<tr>\n",
       "  <th>Dinner</th>     <td>   -0.1324</td> <td>    0.446</td> <td>   -0.297</td> <td> 0.767</td> <td>   -1.011</td> <td>    0.746</td>\n",
       "</tr>\n",
       "<tr>\n",
       "  <th>Thur</th>       <td>   -0.2262</td> <td>    0.472</td> <td>   -0.479</td> <td> 0.632</td> <td>   -1.157</td> <td>    0.704</td>\n",
       "</tr>\n",
       "<tr>\n",
       "  <th>Fri</th>        <td>   -0.0505</td> <td>    0.321</td> <td>   -0.157</td> <td> 0.875</td> <td>   -0.683</td> <td>    0.582</td>\n",
       "</tr>\n",
       "<tr>\n",
       "  <th>Sat</th>        <td>   -0.1296</td> <td>    0.166</td> <td>   -0.781</td> <td> 0.436</td> <td>   -0.457</td> <td>    0.197</td>\n",
       "</tr>\n",
       "</table>\n",
       "<table class=\"simpletable\">\n",
       "<tr>\n",
       "  <th>Omnibus:</th>       <td>24.388</td> <th>  Durbin-Watson:     </th> <td>   2.147</td>\n",
       "</tr>\n",
       "<tr>\n",
       "  <th>Prob(Omnibus):</th> <td> 0.000</td> <th>  Jarque-Bera (JB):  </th> <td>  45.533</td>\n",
       "</tr>\n",
       "<tr>\n",
       "  <th>Skew:</th>          <td> 0.537</td> <th>  Prob(JB):          </th> <td>1.30e-10</td>\n",
       "</tr>\n",
       "<tr>\n",
       "  <th>Kurtosis:</th>      <td> 4.823</td> <th>  Cond. No.          </th> <td>    265.</td>\n",
       "</tr>\n",
       "</table><br/><br/>Warnings:<br/>[1] Standard Errors assume that the covariance matrix of the errors is correctly specified."
      ],
      "text/plain": [
       "<class 'statsmodels.iolib.summary.Summary'>\n",
       "\"\"\"\n",
       "                            OLS Regression Results                            \n",
       "==============================================================================\n",
       "Dep. Variable:                    tip   R-squared:                       0.461\n",
       "Model:                            OLS   Adj. R-squared:                  0.445\n",
       "Method:                 Least Squares   F-statistic:                     28.88\n",
       "Date:                Tue, 11 Aug 2020   Prob (F-statistic):           1.37e-28\n",
       "Time:                        20:59:15   Log-Likelihood:                -349.47\n",
       "No. Observations:                 244   AIC:                             714.9\n",
       "Df Residuals:                     236   BIC:                             742.9\n",
       "Df Model:                           7                                         \n",
       "Covariance Type:            nonrobust                                         \n",
       "==============================================================================\n",
       "                 coef    std err          t      P>|t|      [0.025      0.975]\n",
       "------------------------------------------------------------------------------\n",
       "const          1.1462      0.479      2.395      0.017       0.203       2.089\n",
       "total_bill     0.1059      0.008     13.788      0.000       0.091       0.121\n",
       "Female         0.0376      0.142      0.264      0.792      -0.243       0.318\n",
       "Yes           -0.1418      0.145     -0.980      0.328      -0.427       0.143\n",
       "Dinner        -0.1324      0.446     -0.297      0.767      -1.011       0.746\n",
       "Thur          -0.2262      0.472     -0.479      0.632      -1.157       0.704\n",
       "Fri           -0.0505      0.321     -0.157      0.875      -0.683       0.582\n",
       "Sat           -0.1296      0.166     -0.781      0.436      -0.457       0.197\n",
       "==============================================================================\n",
       "Omnibus:                       24.388   Durbin-Watson:                   2.147\n",
       "Prob(Omnibus):                  0.000   Jarque-Bera (JB):               45.533\n",
       "Skew:                           0.537   Prob(JB):                     1.30e-10\n",
       "Kurtosis:                       4.823   Cond. No.                         265.\n",
       "==============================================================================\n",
       "\n",
       "Warnings:\n",
       "[1] Standard Errors assume that the covariance matrix of the errors is correctly specified.\n",
       "\"\"\""
      ]
     },
     "execution_count": 12,
     "metadata": {},
     "output_type": "execute_result"
    }
   ],
   "source": [
    "fit.summary()"
   ]
  },
  {
   "cell_type": "markdown",
   "metadata": {},
   "source": [
    "# Objective\n",
    " \n",
    " DrillDown and understand the output of the model"
   ]
  },
  {
   "cell_type": "markdown",
   "metadata": {},
   "source": [
    "The total sum of squares (proportional to the variance of the data)\n",
    "$$SS_{\\text{tot}}=\\sum _{i}(y_{i}-{\\bar {y}})^{2}$$  , if intercept is present (centered)"
   ]
  },
  {
   "cell_type": "code",
   "execution_count": 13,
   "metadata": {},
   "outputs": [
    {
     "data": {
      "text/plain": [
       "465.2124770491804"
      ]
     },
     "execution_count": 13,
     "metadata": {},
     "output_type": "execute_result"
    }
   ],
   "source": [
    "TSS = np.sum((y-np.mean(y))**2) if 'const' in x.columns else np.sum(y**2);TSS #Total Sum of Squares"
   ]
  },
  {
   "cell_type": "markdown",
   "metadata": {},
   "source": [
    "The sum of squares of residuals, also called the residual sum of squares:\n",
    "$${\\displaystyle SS_{\\text{res}}=\\sum _{i}(y_{i}-f_{i})^{2}=\\sum _{i}e_{i}^{2}\\,}$$"
   ]
  },
  {
   "cell_type": "code",
   "execution_count": 14,
   "metadata": {},
   "outputs": [
    {
     "data": {
      "text/plain": [
       "250.58010271948234"
      ]
     },
     "execution_count": 14,
     "metadata": {},
     "output_type": "execute_result"
    }
   ],
   "source": [
    "SSR = np.sum((y-fit.fittedvalues)**2);SSR # sum of square of residuals"
   ]
  },
  {
   "cell_type": "markdown",
   "metadata": {},
   "source": [
    "The regression sum of squares, also called the explained sum of squares:\n",
    "$$SS_{\\text{reg}}=\\sum _{i}(f_{i}-{\\bar {y}})^{2}$$ , or a better approach\n",
    "\n",
    "If a constant is present, the centered total sum of squares minus the sum of squared residuals. If there is no constant, the uncentered total sum of squares is used."
   ]
  },
  {
   "cell_type": "code",
   "execution_count": 15,
   "metadata": {},
   "outputs": [
    {
     "data": {
      "text/plain": [
       "214.63237432969805"
      ]
     },
     "execution_count": 15,
     "metadata": {},
     "output_type": "execute_result"
    }
   ],
   "source": [
    "RSS = TSS- SSR ; RSS# regression sum of squares"
   ]
  },
  {
   "cell_type": "markdown",
   "metadata": {},
   "source": [
    "The most general definition of the coefficient of determination is\n",
    "$${\\displaystyle R^{2}\\equiv 1-{SS_{\\rm {res}} \\over SS_{\\rm {tot}}}\\,}$$\n",
    "\n",
    "It can be concluded that why r2 is defined as 1 - SSR / TSS"
   ]
  },
  {
   "cell_type": "code",
   "execution_count": 16,
   "metadata": {},
   "outputs": [
    {
     "data": {
      "text/plain": [
       "0.461364182859197"
      ]
     },
     "execution_count": 16,
     "metadata": {},
     "output_type": "execute_result"
    }
   ],
   "source": [
    "r2 = 1- SSR/TSS ; r2 "
   ]
  },
  {
   "cell_type": "markdown",
   "metadata": {},
   "source": [
    "The adjusted R2 is defined as\n",
    "$${\\displaystyle {\\bar {R}}^{2}=1-(1-R^{2}){n-1 \\over n-p-1}}$$"
   ]
  },
  {
   "cell_type": "code",
   "execution_count": 17,
   "metadata": {},
   "outputs": [
    {
     "name": "stdout",
     "output_type": "stream",
     "text": [
      "n: 244, p: 7\n",
      "adj r2 :0.445\n"
     ]
    }
   ],
   "source": [
    "n,p = x.shape; p = p - 1  if 'const' in x.columns else p \n",
    "print (\"n: {}, p: {}\".format(n,p))\n",
    "\n",
    "ad_r2 = 1 - (1-r2)*(n-1)/(n-p-1)\n",
    "print (\"adj r2 :{:.3f}\".format(ad_r2))"
   ]
  },
  {
   "cell_type": "code",
   "execution_count": 18,
   "metadata": {},
   "outputs": [
    {
     "name": "stdout",
     "output_type": "stream",
     "text": [
      "standard error of the model 1.01\n"
     ]
    }
   ],
   "source": [
    "SE = np.std(fit.resid) ; print (\"standard error of the model {:3.2f}\".format(SE))"
   ]
  },
  {
   "cell_type": "code",
   "execution_count": 19,
   "metadata": {},
   "outputs": [
    {
     "data": {
      "text/plain": [
       "0.5372313259604506"
      ]
     },
     "execution_count": 19,
     "metadata": {},
     "output_type": "execute_result"
    }
   ],
   "source": [
    "skew(fit.resid) # skew"
   ]
  },
  {
   "cell_type": "code",
   "execution_count": 20,
   "metadata": {},
   "outputs": [
    {
     "data": {
      "text/plain": [
       "1.823239651776447"
      ]
     },
     "execution_count": 20,
     "metadata": {},
     "output_type": "execute_result"
    }
   ],
   "source": [
    "kurtosis(fit.resid) # excess kurtosis"
   ]
  },
  {
   "cell_type": "code",
   "execution_count": 21,
   "metadata": {},
   "outputs": [
    {
     "data": {
      "image/png": "[encoded data removed]",
      "text/plain": [
       "<Figure size 432x288 with 1 Axes>"
      ]
     },
     "metadata": {
      "needs_background": "light"
     },
     "output_type": "display_data"
    }
   ],
   "source": [
    "ax = plt.gca()\n",
    "ax.scatter(fit.fittedvalues,y,marker='*')\n",
    "ax.set(xlabel='Forecasted',ylabel='Observations',title='Linear Model Fit')\n",
    "ax.grid(True,alpha=0.3)"
   ]
  },
  {
   "cell_type": "markdown",
   "metadata": {},
   "source": [
    "## MSE \n",
    "Mean squared error the model.\n",
    "\n",
    "The explained sum of squares divided by the model degrees of freedom\n",
    "\n",
    "## RMSE / SE\n",
    "\n",
    " RMSE = SQRT(MSE)"
   ]
  },
  {
   "cell_type": "code",
   "execution_count": 22,
   "metadata": {},
   "outputs": [
    {
     "name": "stdout",
     "output_type": "stream",
     "text": [
      "MSE :35.797\n",
      "RMSE :5.983\n"
     ]
    }
   ],
   "source": [
    "mse_model = SSR/p ; print (\"MSE :{:3.3f}\".format(mse_model)) \n",
    "RMSE = np.sqrt(mse_model); print (\"RMSE :{:3.3f}\".format(RMSE)) "
   ]
  },
  {
   "cell_type": "markdown",
   "metadata": {},
   "source": [
    "Mean squared error of the residuals.\n",
    "\n",
    "The sum of squared residuals divided by the residual degrees of freedom."
   ]
  },
  {
   "cell_type": "code",
   "execution_count": 23,
   "metadata": {},
   "outputs": [
    {
     "data": {
      "text/plain": [
       "1.061780096268993"
      ]
     },
     "execution_count": 23,
     "metadata": {},
     "output_type": "execute_result"
    }
   ],
   "source": [
    "mse_resid = SSR/(n-p-1); mse_resid"
   ]
  },
  {
   "cell_type": "code",
   "execution_count": 32,
   "metadata": {},
   "outputs": [
    {
     "data": {
      "text/plain": [
       "0.4613641828591971"
      ]
     },
     "execution_count": 32,
     "metadata": {},
     "output_type": "execute_result"
    }
   ],
   "source": [
    "1 - fit.ssr/fit.centered_tss"
   ]
  },
  {
   "cell_type": "code",
   "execution_count": 30,
   "metadata": {},
   "outputs": [
    {
     "data": {
      "text/plain": [
       "250.58010271948234"
      ]
     },
     "execution_count": 30,
     "metadata": {},
     "output_type": "execute_result"
    }
   ],
   "source": []
  },
  {
   "cell_type": "code",
   "execution_count": null,
   "metadata": {},
   "outputs": [],
   "source": []
  }
 ],
 "metadata": {
  "kernelspec": {
   "display_name": "Python 3",
   "language": "python",
   "name": "python3"
  },
  "language_info": {
   "codemirror_mode": {
    "name": "ipython",
    "version": 3
   },
   "file_extension": ".py",
   "mimetype": "text/x-python",
   "name": "python",
   "nbconvert_exporter": "python",
   "pygments_lexer": "ipython3",
   "version": "3.6.8"
  }
 },
 "nbformat": 4,
 "nbformat_minor": 4
}
