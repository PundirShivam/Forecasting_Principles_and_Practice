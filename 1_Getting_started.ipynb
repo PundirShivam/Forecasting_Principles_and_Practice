{
 "cells": [
  {
   "cell_type": "markdown",
   "metadata": {},
   "source": [
    "# 1.  Getting Started"
   ]
  },
  {
   "cell_type": "markdown",
   "metadata": {},
   "source": [
    "## 1.1. What can be forecast.\n",
    "\n",
    "The predictability of an event or a quantity depends on several factors including:\n",
    "\n",
    "1. how well we understand the factors that contribute to it;\n",
    "2. how much data is available;\n",
    "3. whether the forecasts can affect the thing we are trying to forecast."
   ]
  },
  {
   "cell_type": "markdown",
   "metadata": {},
   "source": [
    "## 1.2  Forecasting, planning and goals\n",
    "* __Forecasting__ is about predicting the future as accurately as possible, given all of the information available, including historical data a nd knowledge of any future events that might impact the forecasts.\n",
    "* __Goals__ are what you would like to have happen. Goals should be linked to forecasts and plans, but this does not always occur. Too often, goals are set without any plan for how to achieve them, and no forecasts for whether they are realistic.\n",
    "* __Planning__ is a response to forecasts and goals. Planning involves determining the appropriate actions that are required to make your forecasts match your goals.\n",
    "\n",
    "Forecasts can be made across three horizons short - term , medium - term and long- term forecasts."
   ]
  },
  {
   "cell_type": "markdown",
   "metadata": {},
   "source": [
    "## 1.3. Determining What needs to be forecast\n",
    "\n",
    "Important questions to consider before starting to build forecasting systems:\n",
    "* What needs to be forecast ( variable) ?\n",
    "* what is the horizon for forecast ? 1 Day, month , years etc?\n",
    "* What is the frequency at which this forecast is required ?\n",
    "* What is the need and use case of forecast by the end user ?\n",
    "    \n",
    "Once we have come up with anwers to above questions , the next obvious question is:\n",
    "* Do we have the historical data ( information ) on which the forecasts will be based on ?"
   ]
  },
  {
   "cell_type": "markdown",
   "metadata": {},
   "source": [
    "## 1.4. Forecasting data and methods\n",
    "\n",
    "There are broadly two types of forecasting methods \n",
    "1. __Qualitative forecasting__ , there is no or little  historical data available. We have to rely on methods which does not use historical data .\n",
    "2. __Quantitative forecasting__ these can be applied when two conditions are met\n",
    "    (a). numerical information about the past is available;\n",
    "    (b). it is reasonable to assume that some aspects of the past patterns will continue into the future.\n",
    " \n",
    " Quantitative forecasting models can be of time series forecasting (across time ) or cross - sectional forecasting at snapshot of time .\n",
    " \n",
    " \n",
    " ### Predictor variables and time series forecasting\n",
    " \n",
    " Taking an example of forecasting Electricity Demand (ED):\n",
    " \n",
    "1. __Explanatory model__\n",
    "$ED=f(\\text{(current temperature, strength of economy, population,time of day, day of week, }error))$ . Predictor variables help explain the electricity demand.\n",
    "2. __Time series model__\n",
    "$ED_{t+1} = f(ED_t,ED_{t-1},ED_{t-2},..,error)$ , prediction of the future is based on past values of a variable, but not on external variables which may affect the system.\n",
    "3. __Mixed model__\n",
    "$ED_{t+1} =f(ED_t,\\text{current temperature, time of day, day of week,} error)$ , these mixed models are known as dynamic regression models, panel data models, longitudinal models, transfer function models, and linear system models (assuming that f is linear).\n",
    "\n",
    "Some Reasons why Time series model are preferred over Explanatory model:\n",
    "1. The nature of problem is of forecasting rather than explanatory.\n",
    "2. The system may not be well understood to arrive at explanatory variables.\n",
    "3. Arriving at explanatory variables at time t+1 for forecasting is costly / difficult.\n",
    "4. We may be interested in knowing what will happen rather why it will happen?\n",
    "5. Time series forecasting could be a more accurate model . ( I suspect it could be because of easily availability of time series data and forecasting tools )\n"
   ]
  },
  {
   "cell_type": "markdown",
   "metadata": {},
   "source": [
    "## 1.6. The basic steps in a forecasting task\n",
    "\n",
    "    Step 1: Problem definition\n",
    "    Step 2: Gathering information\n",
    "    Step 3: Preliminary (exploratory) analysis.\n",
    "    Step 4: Choosing and fitting models.\n",
    "    Step 5: Using and evaluating a forecasting model.\n",
    "    "
   ]
  },
  {
   "cell_type": "code",
   "execution_count": null,
   "metadata": {},
   "outputs": [],
   "source": []
  }
 ],
 "metadata": {
  "kernelspec": {
   "display_name": "Python 3",
   "language": "python",
   "name": "python3"
  },
  "language_info": {
   "codemirror_mode": {
    "name": "ipython",
    "version": 3
   },
   "file_extension": ".py",
   "mimetype": "text/x-python",
   "name": "python",
   "nbconvert_exporter": "python",
   "pygments_lexer": "ipython3",
   "version": "3.6.8"
  }
 },
 "nbformat": 4,
 "nbformat_minor": 4
}
